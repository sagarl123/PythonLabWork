{
 "cells": [
  {
   "cell_type": "code",
   "execution_count": 2,
   "metadata": {},
   "outputs": [
    {
     "name": "stdout",
     "output_type": "stream",
     "text": [
      "MY aPPLE Is rIpE 123\n"
     ]
    }
   ],
   "source": [
    "#q1 You are given a string and your task is to swap cases. \n",
    "#In other words, convert all lowercase letters to uppercase letters and vice versa.\n",
    "input = 'my Apple iS RiPe 123'\n",
    "output=''\n",
    "for i in input:\n",
    "    if (ord(i)>=65 and ord(i)<=90):\n",
    "        output += chr(ord(i)+32) \n",
    "    elif(ord(i)>=97 and ord(i)<=122):\n",
    "        output +=chr(ord(i)-32)\n",
    "    else:\n",
    "        output +=chr(ord(i))\n",
    "       \n",
    "print(output)"
   ]
  },
  {
   "cell_type": "code",
   "execution_count": 4,
   "metadata": {},
   "outputs": [
    {
     "name": "stdout",
     "output_type": "stream",
     "text": [
      "2\n"
     ]
    }
   ],
   "source": [
    "#q2 The user enters a string and a substring. You have to print the number of times that the substring occurs in the given string. \n",
    "#String traversal will take place from left to right, not from right to left.\n",
    "input = 'choappcho app'\n",
    "sub ='app'\n",
    "count = 0\n",
    "a = len(input)\n",
    "for i in range(0,len(input)):\n",
    "    if input[i:i+len(sub)]==sub:\n",
    "        count += 1\n",
    "\n",
    "print(count)"
   ]
  },
  {
   "cell_type": "code",
   "execution_count": 30,
   "metadata": {},
   "outputs": [
    {
     "ename": "TypeError",
     "evalue": "'str' object is not callable",
     "output_type": "error",
     "traceback": [
      "\u001b[1;31m---------------------------------------------------------------------------\u001b[0m",
      "\u001b[1;31mTypeError\u001b[0m                                 Traceback (most recent call last)",
      "\u001b[1;32m<ipython-input-30-2c6946486616>\u001b[0m in \u001b[0;36m<module>\u001b[1;34m()\u001b[0m\n\u001b[0;32m     16\u001b[0m \u001b[1;33m\u001b[0m\u001b[0m\n\u001b[0;32m     17\u001b[0m \u001b[0ma\u001b[0m \u001b[1;33m=\u001b[0m \u001b[0mCharacterDisplay\u001b[0m\u001b[1;33m(\u001b[0m\u001b[1;33m)\u001b[0m\u001b[1;33m\u001b[0m\u001b[0m\n\u001b[1;32m---> 18\u001b[1;33m \u001b[0ma\u001b[0m\u001b[1;33m.\u001b[0m\u001b[0mtakeInput\u001b[0m\u001b[1;33m(\u001b[0m\u001b[1;33m)\u001b[0m\u001b[1;33m\u001b[0m\u001b[0m\n\u001b[0m\u001b[0;32m     19\u001b[0m \u001b[0ma\u001b[0m\u001b[1;33m.\u001b[0m\u001b[0mdisplayOutput\u001b[0m\u001b[1;33m(\u001b[0m\u001b[1;33m)\u001b[0m\u001b[1;33m\u001b[0m\u001b[0m\n\u001b[0;32m     20\u001b[0m \u001b[1;33m\u001b[0m\u001b[0m\n",
      "\u001b[1;32m<ipython-input-28-d99af6113242>\u001b[0m in \u001b[0;36mtakeInput\u001b[1;34m(self)\u001b[0m\n\u001b[0;32m      6\u001b[0m \u001b[1;33m\u001b[0m\u001b[0m\n\u001b[0;32m      7\u001b[0m     \u001b[1;32mdef\u001b[0m \u001b[0mtakeInput\u001b[0m\u001b[1;33m(\u001b[0m\u001b[0mself\u001b[0m\u001b[1;33m)\u001b[0m\u001b[1;33m:\u001b[0m\u001b[1;33m\u001b[0m\u001b[0m\n\u001b[1;32m----> 8\u001b[1;33m         \u001b[0mself\u001b[0m\u001b[1;33m.\u001b[0m\u001b[0mstring\u001b[0m \u001b[1;33m=\u001b[0m \u001b[0minput\u001b[0m\u001b[1;33m(\u001b[0m\u001b[1;34m'please enter string: '\u001b[0m\u001b[1;33m)\u001b[0m\u001b[1;33m\u001b[0m\u001b[0m\n\u001b[0m\u001b[0;32m      9\u001b[0m \u001b[1;33m\u001b[0m\u001b[0m\n\u001b[0;32m     10\u001b[0m     \u001b[1;32mdef\u001b[0m \u001b[0mdisplayOutput\u001b[0m\u001b[1;33m(\u001b[0m\u001b[0mself\u001b[0m\u001b[1;33m)\u001b[0m\u001b[1;33m:\u001b[0m\u001b[1;33m\u001b[0m\u001b[0m\n",
      "\u001b[1;31mTypeError\u001b[0m: 'str' object is not callable"
     ]
    }
   ],
   "source": [
    "#q3 Write a class in which its one method accepts a string from console and \n",
    "#another method to print the characters that have even indexes.\n",
    "\n",
    "class CharacterEvenDisplay(object):\n",
    "    string = ''\n",
    "    \n",
    "    def takeInput(self):\n",
    "        self.string = input('please enter string: ')\n",
    "    \n",
    "    def displayOutput(self):\n",
    "        output = ''\n",
    "        for i in range(len(self.string)):\n",
    "            if(i!=0 and i%2 ==0):\n",
    "                print(i[index],end=\"\")\n",
    "                \n",
    "\n",
    "a = CharacterDisplay()\n",
    "a.takeInput()\n",
    "a.displayOutput()\n",
    "        "
   ]
  },
  {
   "cell_type": "code",
   "execution_count": 10,
   "metadata": {},
   "outputs": [
    {
     "name": "stdout",
     "output_type": "stream",
     "text": [
      "[(10, 20, 100), (40, 50, 100), (70, 80, 100)]\n"
     ]
    }
   ],
   "source": [
    "#Q4 Write a Python program to replace last value of tuples in a list.\n",
    "list = [(10, 20, 40), (40, 50, 60), (70, 80, 90)]\n",
    "result =([i[:-1] + (100,) for i in list])\n",
    "print (result)\n"
   ]
  },
  {
   "cell_type": "code",
   "execution_count": null,
   "metadata": {},
   "outputs": [],
   "source": [
    "\n"
   ]
  },
  {
   "cell_type": "code",
   "execution_count": null,
   "metadata": {},
   "outputs": [],
   "source": []
  },
  {
   "cell_type": "code",
   "execution_count": null,
   "metadata": {},
   "outputs": [],
   "source": []
  },
  {
   "cell_type": "code",
   "execution_count": null,
   "metadata": {},
   "outputs": [],
   "source": []
  },
  {
   "cell_type": "code",
   "execution_count": null,
   "metadata": {},
   "outputs": [],
   "source": []
  },
  {
   "cell_type": "code",
   "execution_count": 79,
   "metadata": {},
   "outputs": [
    {
     "name": "stdout",
     "output_type": "stream",
     "text": [
      "applleaHPppe  abcd\n"
     ]
    }
   ],
   "source": [
    "input = 'app12lle5466aHPppe@#  abcd'\n",
    "output = ''\n",
    "p =''\n",
    "for i in input:\n",
    "    if(ord(i)>=65 and ord(i)<=90 or (ord(i)>=97 and ord(i)<=122) or ord(i)==32):\n",
    "        output +=chr(ord(i))\n",
    "print(output)"
   ]
  },
  {
   "cell_type": "code",
   "execution_count": 22,
   "metadata": {},
   "outputs": [],
   "source": [
    "class DisplayOnlyCharacter(object):\n",
    "    output =''\n",
    "    input = 'am02DCFaas 1Azx'\n",
    "    def display(self):\n",
    "        for i in self.input:\n",
    "            if(ord(i)>=65 and ord(i)<=90 or (ord(i)>=97 and ord(i)<=122) or ord(i)==32):\n",
    "                   self.output += chr(ord(i))\n",
    "        print(output)\n",
    "         \n",
    "        \n",
    "    \n",
    "        \n",
    "            \n",
    "    "
   ]
  },
  {
   "cell_type": "code",
   "execution_count": 25,
   "metadata": {},
   "outputs": [
    {
     "name": "stdout",
     "output_type": "stream",
     "text": [
      "\n"
     ]
    }
   ],
   "source": [
    "a = DisplayOnlyCharacter()\n",
    "a.display()"
   ]
  },
  {
   "cell_type": "code",
   "execution_count": null,
   "metadata": {},
   "outputs": [],
   "source": []
  }
 ],
 "metadata": {
  "kernelspec": {
   "display_name": "Python 3",
   "language": "python",
   "name": "python3"
  },
  "language_info": {
   "codemirror_mode": {
    "name": "ipython",
    "version": 3
   },
   "file_extension": ".py",
   "mimetype": "text/x-python",
   "name": "python",
   "nbconvert_exporter": "python",
   "pygments_lexer": "ipython3",
   "version": "3.6.5"
  }
 },
 "nbformat": 4,
 "nbformat_minor": 2
}
