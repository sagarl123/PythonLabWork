{
 "cells": [
  {
   "cell_type": "code",
   "execution_count": 2,
   "metadata": {},
   "outputs": [
    {
     "name": "stdout",
     "output_type": "stream",
     "text": [
      "[1, 2, 3, 4, -1, 6, 7, 8, 9, 10]\n"
     ]
    }
   ],
   "source": [
    "x = [1,2,3,4,5,6,7,8,9,10]\n",
    "x[4] = -1\n",
    "print(x)"
   ]
  },
  {
   "cell_type": "code",
   "execution_count": 3,
   "metadata": {},
   "outputs": [
    {
     "data": {
      "text/plain": [
       "[10, 9, 8, 7, 6, -1, 4, 3, 2, 1]"
      ]
     },
     "execution_count": 3,
     "metadata": {},
     "output_type": "execute_result"
    }
   ],
   "source": [
    "x[::-1]\n",
    "    "
   ]
  },
  {
   "cell_type": "code",
   "execution_count": 1,
   "metadata": {},
   "outputs": [
    {
     "data": {
      "text/plain": [
       "[(10, 20, 100), (40, 50, 100), (70, 80, 100)]"
      ]
     },
     "execution_count": 1,
     "metadata": {},
     "output_type": "execute_result"
    }
   ],
   "source": [
    "list = [(10,20,40),(40,50,60),(70,80,90)]\n",
    "k\n"
   ]
  },
  {
   "cell_type": "code",
   "execution_count": 2,
   "metadata": {},
   "outputs": [
    {
     "data": {
      "text/plain": [
       "{1: 2, 2: 3, 3: 3, 4: 2, 5: 1, 6: 1}"
      ]
     },
     "execution_count": 2,
     "metadata": {},
     "output_type": "execute_result"
    }
   ],
   "source": [
    "#Solution\n",
    "d = [1,2,3,4,3,4,2,3,5,6,2,1]\n",
    "countFrequency = {x:d.count(x) for x in d}\n",
    "countFrequency"
   ]
  },
  {
   "cell_type": "code",
   "execution_count": 3,
   "metadata": {},
   "outputs": [
    {
     "name": "stdout",
     "output_type": "stream",
     "text": [
      "[3, 1, 0]\n",
      "[[7, 0], [9, 9], [4, 7]]\n"
     ]
    },
    {
     "data": {
      "text/plain": [
       "[[7, 0], [9, 9]]"
      ]
     },
     "execution_count": 3,
     "metadata": {},
     "output_type": "execute_result"
    }
   ],
   "source": [
    "# Solution\n",
    "x = [[3,7,0],[1,9,9],[0,4,7]]\n",
    "removed = [i.pop(0) for i in x]\n",
    "print (removed)\n",
    "print(x)\n",
    "x[0:2]\n"
   ]
  },
  {
   "cell_type": "code",
   "execution_count": 4,
   "metadata": {},
   "outputs": [
    {
     "name": "stdout",
     "output_type": "stream",
     "text": [
      "[1, 2, 3, 4, 5, 6]\n"
     ]
    }
   ],
   "source": [
    "# Solution\n",
    "list = [1,2,3,4,3,4,2,3,5,6,2,1]\n",
    "output=[]\n",
    "for i in list:\n",
    "    if i not in output:\n",
    "        output.append(i)\n",
    "print (output)"
   ]
  },
  {
   "cell_type": "code",
   "execution_count": 5,
   "metadata": {},
   "outputs": [
    {
     "data": {
      "text/plain": [
       "[6, 5, 4]"
      ]
     },
     "execution_count": 5,
     "metadata": {},
     "output_type": "execute_result"
    }
   ],
   "source": [
    "#Solution\n",
    "x = [1,2,3,4,5,6]\n",
    "a = x[::-1]\n",
    "a[0:3]\n"
   ]
  },
  {
   "cell_type": "code",
   "execution_count": 6,
   "metadata": {},
   "outputs": [
    {
     "name": "stdout",
     "output_type": "stream",
     "text": [
      "[1, 2, 3, 4, -1, 6, 7, 8, 9, 10]\n"
     ]
    },
    {
     "data": {
      "text/plain": [
       "[10, 9, 8, 7, 6, -1, 4, 3, 2, 1]"
      ]
     },
     "execution_count": 6,
     "metadata": {},
     "output_type": "execute_result"
    }
   ],
   "source": [
    "x = [1,2,3,4,5,6,7,8,9,10]\n",
    "x[4] = -1\n",
    "print(x)\n",
    "x[::-1]"
   ]
  },
  {
   "cell_type": "code",
   "execution_count": 55,
   "metadata": {},
   "outputs": [
    {
     "name": "stdout",
     "output_type": "stream",
     "text": [
      "MY aPPLE Is rIpE 123\n"
     ]
    }
   ],
   "source": [
    "input = 'my Apple iS RiPe 123'\n",
    "output=''\n",
    "for i in input:\n",
    "    if (ord(i)>=65 and ord(i)<=90):\n",
    "        output += chr(ord(i)+32) \n",
    "    elif(ord(i)>=97 and ord(i)<=122):\n",
    "        output +=chr(ord(i)-32)\n",
    "    else:\n",
    "        output +=chr(ord(i))\n",
    "       \n",
    "print(output)"
   ]
  },
  {
   "cell_type": "code",
   "execution_count": 79,
   "metadata": {},
   "outputs": [
    {
     "name": "stdout",
     "output_type": "stream",
     "text": [
      "applleaHPppe  abcd\n"
     ]
    }
   ],
   "source": [
    "input = 'app12lle5466aHPppe@#  abcd'\n",
    "output = ''\n",
    "p =''\n",
    "for i in input:\n",
    "    if(ord(i)>=65 and ord(i)<=90 or (ord(i)>=97 and ord(i)<=122) or ord(i)==32):\n",
    "        output +=chr(ord(i))\n",
    "print(output)"
   ]
  },
  {
   "cell_type": "code",
   "execution_count": 92,
   "metadata": {},
   "outputs": [
    {
     "name": "stdout",
     "output_type": "stream",
     "text": [
      "1\n"
     ]
    }
   ],
   "source": [
    "input = 'choappcho app'\n",
    "sub ='ppc'\n",
    "count = 0\n",
    "a = len(input)\n",
    "for i in range(0,len(input)):\n",
    "    if input[i:i+len(sub)]==sub:\n",
    "        count += 1\n",
    "\n",
    "print(count)\n",
    "    "
   ]
  },
  {
   "cell_type": "code",
   "execution_count": null,
   "metadata": {},
   "outputs": [],
   "source": []
  },
  {
   "cell_type": "code",
   "execution_count": null,
   "metadata": {},
   "outputs": [],
   "source": []
  }
 ],
 "metadata": {
  "kernelspec": {
   "display_name": "Python 3",
   "language": "python",
   "name": "python3"
  },
  "language_info": {
   "codemirror_mode": {
    "name": "ipython",
    "version": 3
   },
   "file_extension": ".py",
   "mimetype": "text/x-python",
   "name": "python",
   "nbconvert_exporter": "python",
   "pygments_lexer": "ipython3",
   "version": "3.6.5"
  }
 },
 "nbformat": 4,
 "nbformat_minor": 2
}
